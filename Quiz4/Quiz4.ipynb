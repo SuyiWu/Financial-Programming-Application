{
 "cells": [
  {
   "cell_type": "markdown",
   "metadata": {},
   "source": [
    "# A). Nearest neighbor analytics (II) (60 points)"
   ]
  },
  {
   "cell_type": "markdown",
   "metadata": {},
   "source": [
    "Finish the following analysis for the dataset: NBoption.csv\n",
    "\n",
    "1. Partition data into 80% training data and 20% test data\n",
    "\n",
    "2. Employ k-NN regression to predict volatility (you can choose your features) and evaluate its MSE\n",
    "\n",
    "   (a) Find the samples whose values error = | V olatility−predictedV olatility | are at the top 10% of all testing samples\n",
    "\n",
    "   (b) Find the samples whose values error = | V olatility−predictedV olatility | are at the bottom 10% of all testing samples\n",
    "\n",
    "3. Employ k-NN regression to predict implied volatility without using volatility as a feature, that is, you exclude volatility in your features.\n",
    "\n",
    "   (a) Find the samples whose values error = | IV − predictedIV | are at the bottom/top 10% of all testing samples\n",
    "\n",
    "4. Employ k-NN regression to predict implied volatility with using volatility as a feature, that is, you include volatility in your features.\n",
    "\n",
    "   (a) Find the samples whose values error = | IV − predictedIV | are at the bottom/top 10% of all testing samples\n",
    "\n",
    "5. Compare their MSEs and draw your conclusion.\n",
    "\n",
    "6. Try at least 3 diﬀerent types of distances in k-NN regression and neighbors to ﬁnd the best results for the previous problems."
   ]
  },
  {
   "cell_type": "code",
   "execution_count": 2,
   "metadata": {},
   "outputs": [],
   "source": [
    "import pandas as pd\n",
    "import numpy as np\n",
    "from sklearn.model_selection import train_test_split\n",
    "from sklearn.neighbors import KNeighborsRegressor\n",
    "import matplotlib.pyplot as plt"
   ]
  },
  {
   "cell_type": "code",
   "execution_count": 17,
   "metadata": {},
   "outputs": [],
   "source": [
    "## First read the data:\n",
    "optionData = pd.read_csv(\"NBOption.csv\")\n",
    "newOptionData = optionData.replace(\"call\", 1) \n",
    "newOptionData = newOptionData.replace(\"put\",0)"
   ]
  },
  {
   "cell_type": "code",
   "execution_count": 28,
   "metadata": {},
   "outputs": [
    {
     "data": {
      "text/html": [
       "<div>\n",
       "<style scoped>\n",
       "    .dataframe tbody tr th:only-of-type {\n",
       "        vertical-align: middle;\n",
       "    }\n",
       "\n",
       "    .dataframe tbody tr th {\n",
       "        vertical-align: top;\n",
       "    }\n",
       "\n",
       "    .dataframe thead th {\n",
       "        text-align: right;\n",
       "    }\n",
       "</style>\n",
       "<table border=\"1\" class=\"dataframe\">\n",
       "  <thead>\n",
       "    <tr style=\"text-align: right;\">\n",
       "      <th></th>\n",
       "      <th>DataType</th>\n",
       "      <th>Ask</th>\n",
       "      <th>Bid</th>\n",
       "      <th>LastPrice</th>\n",
       "      <th>StockPrice</th>\n",
       "      <th>Strike</th>\n",
       "      <th>Volatility</th>\n",
       "      <th>Volume</th>\n",
       "      <th>time_to_maturity</th>\n",
       "      <th>ImpliedVolatility</th>\n",
       "    </tr>\n",
       "  </thead>\n",
       "  <tbody>\n",
       "    <tr>\n",
       "      <th>0</th>\n",
       "      <td>put</td>\n",
       "      <td>0.10</td>\n",
       "      <td>0.0</td>\n",
       "      <td>0.11</td>\n",
       "      <td>79.40</td>\n",
       "      <td>30.0</td>\n",
       "      <td>0.284654</td>\n",
       "      <td>22</td>\n",
       "      <td>0.128767</td>\n",
       "      <td>1.242191</td>\n",
       "    </tr>\n",
       "    <tr>\n",
       "      <th>1</th>\n",
       "      <td>put</td>\n",
       "      <td>0.25</td>\n",
       "      <td>0.0</td>\n",
       "      <td>0.10</td>\n",
       "      <td>71.86</td>\n",
       "      <td>35.0</td>\n",
       "      <td>0.400073</td>\n",
       "      <td>61</td>\n",
       "      <td>0.090411</td>\n",
       "      <td>1.173832</td>\n",
       "    </tr>\n",
       "    <tr>\n",
       "      <th>2</th>\n",
       "      <td>put</td>\n",
       "      <td>1.80</td>\n",
       "      <td>0.0</td>\n",
       "      <td>0.40</td>\n",
       "      <td>79.40</td>\n",
       "      <td>40.0</td>\n",
       "      <td>0.284654</td>\n",
       "      <td>5</td>\n",
       "      <td>0.128767</td>\n",
       "      <td>1.442386</td>\n",
       "    </tr>\n",
       "    <tr>\n",
       "      <th>3</th>\n",
       "      <td>put</td>\n",
       "      <td>0.20</td>\n",
       "      <td>0.0</td>\n",
       "      <td>0.09</td>\n",
       "      <td>79.54</td>\n",
       "      <td>45.0</td>\n",
       "      <td>0.286563</td>\n",
       "      <td>4</td>\n",
       "      <td>0.123288</td>\n",
       "      <td>0.763674</td>\n",
       "    </tr>\n",
       "    <tr>\n",
       "      <th>4</th>\n",
       "      <td>put</td>\n",
       "      <td>0.15</td>\n",
       "      <td>0.0</td>\n",
       "      <td>0.10</td>\n",
       "      <td>72.10</td>\n",
       "      <td>50.0</td>\n",
       "      <td>0.396490</td>\n",
       "      <td>1</td>\n",
       "      <td>0.095890</td>\n",
       "      <td>0.578129</td>\n",
       "    </tr>\n",
       "  </tbody>\n",
       "</table>\n",
       "</div>"
      ],
      "text/plain": [
       "  DataType   Ask  Bid  LastPrice  StockPrice  Strike  Volatility  Volume  \\\n",
       "0      put  0.10  0.0       0.11       79.40    30.0    0.284654      22   \n",
       "1      put  0.25  0.0       0.10       71.86    35.0    0.400073      61   \n",
       "2      put  1.80  0.0       0.40       79.40    40.0    0.284654       5   \n",
       "3      put  0.20  0.0       0.09       79.54    45.0    0.286563       4   \n",
       "4      put  0.15  0.0       0.10       72.10    50.0    0.396490       1   \n",
       "\n",
       "   time_to_maturity  ImpliedVolatility  \n",
       "0          0.128767           1.242191  \n",
       "1          0.090411           1.173832  \n",
       "2          0.128767           1.442386  \n",
       "3          0.123288           0.763674  \n",
       "4          0.095890           0.578129  "
      ]
     },
     "execution_count": 28,
     "metadata": {},
     "output_type": "execute_result"
    }
   ],
   "source": [
    "## Check Data\n",
    "optionData.head()"
   ]
  },
  {
   "cell_type": "markdown",
   "metadata": {},
   "source": [
    "#### Employ k-NN regression to predict volatility (you can choose your features) and evaluate its MSE"
   ]
  },
  {
   "cell_type": "code",
   "execution_count": 43,
   "metadata": {},
   "outputs": [],
   "source": [
    "training_data = newOptionData[['LastPrice','StockPrice','Strike','time_to_maturity']]\n",
    "\n",
    "## Standard Data\n",
    "\n",
    "training_data = (training_data - training_data.mean()) / training_data.std()\n",
    "training_data['DataType'] = newOptionData['DataType']\n",
    "training_response = newOptionData[[\"Volatility\"]]\n",
    "training_response= (training_response - training_response.mean()) / training_response.std()\n",
    "\n",
    "kNN = KNeighborsRegressor(n_neighbors=5, weights='distance', \n",
    "                          algorithm='auto')\n"
   ]
  },
  {
   "cell_type": "code",
   "execution_count": 38,
   "metadata": {},
   "outputs": [],
   "source": [
    "\n",
    "## partition data into 80% training data and 20% test data\n",
    "\n",
    "def kNNvolatility(training_data, training_response):\n",
    "    x_train, x_test, y_train, y_test = train_test_split(training_data, \n",
    "                                                    training_response, \n",
    "                                                    test_size=0.2, \n",
    "                                                    random_state=42)\n",
    "    kNN.fit(x_train, y_train)\n",
    "    predicted_volatility = kNN.predict(x_test)\n",
    "\n",
    "    error = abs(y_test[['Volatility']] - predicted_volatility)\n",
    "    sortError = error.sort_values(by=['Volatility'],ascending=True)\n",
    "    sortError2 = (y_test[['Volatility']] - predicted_volatility)**2\n",
    "    mse = sortError2.mean()\n",
    "    print(mse)\n",
    "    \n",
    "    return sortError\n",
    "\n"
   ]
  },
  {
   "cell_type": "code",
   "execution_count": 46,
   "metadata": {},
   "outputs": [
    {
     "name": "stdout",
     "output_type": "stream",
     "text": [
      "Volatility    0.342108\n",
      "dtype: float64\n"
     ]
    }
   ],
   "source": [
    "sortError = kNNvolatility(training_data, training_response)\n"
   ]
  },
  {
   "cell_type": "markdown",
   "metadata": {},
   "source": [
    "#### (a) Find the samples whose values error = | IV − predictedIV | are at the bottom/top 10% of all testing samples"
   ]
  },
  {
   "cell_type": "code",
   "execution_count": 48,
   "metadata": {},
   "outputs": [
    {
     "name": "stdout",
     "output_type": "stream",
     "text": [
      "      Volatility\n",
      "1534         0.0\n",
      "5032         0.0\n",
      "1488         0.0\n",
      "5025         0.0\n",
      "8574         0.0\n"
     ]
    }
   ],
   "source": [
    "print(sortError[0:round(len(sortError)*0.1)].head())\n",
    "print(sortError[-round(len(sortError)*0.1):].head().head())"
   ]
  },
  {
   "cell_type": "markdown",
   "metadata": {},
   "source": [
    "### Employ k-NN regression to predict implied volatility without using volatility as a feature, that is, you exclude volatility in your features."
   ]
  },
  {
   "cell_type": "code",
   "execution_count": 37,
   "metadata": {},
   "outputs": [],
   "source": [
    "training_data = newOptionData[['LastPrice','StockPrice','Strike',\n",
    "                               'Volume','time_to_maturity',\"ImpliedVolatility\"]]\n",
    "\n",
    "## Standard Data\n",
    "\n",
    "training_data = (training_data - training_data.mean()) / training_data.std()\n",
    "training_data['DataType'] = newOptionData['DataType']\n",
    "training_response = newOptionData[[\"Volatility\"]]\n",
    "training_response= (training_response - training_response.mean()) / training_response.std()\n",
    "\n",
    "kNN = KNeighborsRegressor(n_neighbors=5, weights='distance', \n",
    "                          algorithm='auto')\n",
    "\n"
   ]
  },
  {
   "cell_type": "code",
   "execution_count": 40,
   "metadata": {},
   "outputs": [
    {
     "name": "stdout",
     "output_type": "stream",
     "text": [
      "Volatility    0.339881\n",
      "dtype: float64\n"
     ]
    }
   ],
   "source": [
    "sortError = kNNvolatility(training_data, training_response)"
   ]
  },
  {
   "cell_type": "markdown",
   "metadata": {},
   "source": [
    "#### (a) Find the samples whose values error = | IV − predictedIV | are at the bottom/top 10% of all testing samples"
   ]
  },
  {
   "cell_type": "code",
   "execution_count": 49,
   "metadata": {},
   "outputs": [
    {
     "name": "stdout",
     "output_type": "stream",
     "text": [
      "      Volatility\n",
      "1534         0.0\n",
      "5032         0.0\n",
      "1488         0.0\n",
      "5025         0.0\n",
      "8574         0.0\n"
     ]
    }
   ],
   "source": [
    "print(sortError[0:round(len(sortError)*0.1)].head())\n",
    "print(sortError[-round(len(sortError)*0.1):].head())"
   ]
  },
  {
   "cell_type": "markdown",
   "metadata": {},
   "source": [
    "#### Employ k-NN regression to predict implied volatility without using volatility as a feature, that is, you exclude volatility in your features."
   ]
  },
  {
   "cell_type": "code",
   "execution_count": 41,
   "metadata": {},
   "outputs": [],
   "source": [
    "training_data = newOptionData[['LastPrice','StockPrice','Strike',\n",
    "                               'Volume','time_to_maturity']]\n",
    "\n",
    "## Standard Data\n",
    "\n",
    "training_data = (training_data - training_data.mean()) / training_data.std()\n",
    "training_data['DataType'] = newOptionData['DataType']"
   ]
  },
  {
   "cell_type": "code",
   "execution_count": 42,
   "metadata": {},
   "outputs": [
    {
     "name": "stdout",
     "output_type": "stream",
     "text": [
      "Volatility    0.364096\n",
      "dtype: float64\n",
      "         Volatility\n",
      "1488   0.000000e+00\n",
      "1253   0.000000e+00\n",
      "5013   0.000000e+00\n",
      "1530   0.000000e+00\n",
      "5703   0.000000e+00\n",
      "8574   0.000000e+00\n",
      "8581   0.000000e+00\n",
      "1534   0.000000e+00\n",
      "8536   0.000000e+00\n",
      "8582   0.000000e+00\n",
      "1250   0.000000e+00\n",
      "5032   0.000000e+00\n",
      "5020   0.000000e+00\n",
      "7219   0.000000e+00\n",
      "5706   2.775558e-17\n",
      "1006   5.551115e-17\n",
      "10670  5.551115e-17\n",
      "1533   1.110223e-16\n",
      "1496   1.110223e-16\n",
      "1489   1.110223e-16\n",
      "5023   8.881784e-16\n",
      "5025   8.881784e-16\n",
      "3855   1.213756e-07\n",
      "8917   3.341023e-06\n",
      "5563   1.393323e-05\n",
      "1602   8.504290e-05\n",
      "11972  1.083026e-04\n",
      "1586   1.683870e-04\n",
      "3846   1.755071e-04\n",
      "3852   2.256282e-04\n",
      "...             ...\n",
      "3724   1.365183e-02\n",
      "14099  1.372981e-02\n",
      "7028   1.376398e-02\n",
      "5697   1.388689e-02\n",
      "5234   1.391995e-02\n",
      "6613   1.402255e-02\n",
      "290    1.403991e-02\n",
      "925    1.418426e-02\n",
      "5605   1.423577e-02\n",
      "6660   1.423614e-02\n",
      "9568   1.427770e-02\n",
      "3821   1.428481e-02\n",
      "3898   1.434407e-02\n",
      "10801  1.439513e-02\n",
      "6909   1.443692e-02\n",
      "3705   1.448002e-02\n",
      "11749  1.448548e-02\n",
      "7271   1.449403e-02\n",
      "1434   1.451648e-02\n",
      "6918   1.460719e-02\n",
      "6472   1.474641e-02\n",
      "3820   1.479193e-02\n",
      "3487   1.481624e-02\n",
      "8589   1.531349e-02\n",
      "13292  1.535000e-02\n",
      "1190   1.541225e-02\n",
      "12818  1.548653e-02\n",
      "6551   1.550734e-02\n",
      "12527  1.553822e-02\n",
      "1237   1.554381e-02\n",
      "\n",
      "[285 rows x 1 columns]\n",
      "       Volatility\n",
      "5868     0.681377\n",
      "3429     0.687260\n",
      "11194    0.687472\n",
      "8544     0.688143\n",
      "5657     0.691993\n",
      "6791     0.692355\n",
      "12130    0.692793\n",
      "12998    0.694304\n",
      "10638    0.694705\n",
      "12251    0.695554\n",
      "850      0.695917\n",
      "483      0.696255\n",
      "3043     0.698441\n",
      "8730     0.698474\n",
      "10296    0.702302\n",
      "738      0.704105\n",
      "2585     0.707007\n",
      "13134    0.708659\n",
      "10243    0.709448\n",
      "1747     0.710411\n",
      "3045     0.711103\n",
      "11262    0.715628\n",
      "1744     0.718243\n",
      "11549    0.719619\n",
      "9644     0.721527\n",
      "9982     0.727495\n",
      "11263    0.728313\n",
      "5304     0.732719\n",
      "11944    0.733510\n",
      "83       0.734946\n",
      "...           ...\n",
      "7066     2.715956\n",
      "8493     2.764447\n",
      "8613     2.775020\n",
      "5186     2.861708\n",
      "7631     2.922167\n",
      "5062     2.967784\n",
      "12285    2.992981\n",
      "8495     3.041746\n",
      "1520     3.191563\n",
      "8451     3.274235\n",
      "5035     3.289101\n",
      "5205     3.303229\n",
      "12277    3.311402\n",
      "1326     3.332091\n",
      "12230    3.392307\n",
      "7621     3.422539\n",
      "6073     3.543276\n",
      "12147    3.723783\n",
      "12305    3.874796\n",
      "8511     3.985599\n",
      "5040     4.048730\n",
      "8487     4.121494\n",
      "8443     4.155935\n",
      "8486     4.198721\n",
      "12142    4.261471\n",
      "7623     4.358806\n",
      "7624     4.441491\n",
      "8484     4.931658\n",
      "5058     4.982089\n",
      "5044     5.242988\n",
      "\n",
      "[285 rows x 1 columns]\n"
     ]
    }
   ],
   "source": [
    "sortError = kNNvolatility(training_data, training_response)\n",
    "print(sortError[0:round(len(sortError)*0.1)])\n",
    "print(sortError[-round(len(sortError)*0.1):])"
   ]
  },
  {
   "cell_type": "markdown",
   "metadata": {},
   "source": [
    "### According to above estimation, when training data with implied volatility, the mse is 0.339881 and when training data without implied volatility, the mse is  0.364096. \n",
    "\n",
    "### The features I chose which without the volume and implied volatility has the mse of 0.342108 which in the middle of above two with or without implied volatility model"
   ]
  },
  {
   "cell_type": "markdown",
   "metadata": {},
   "source": [
    "# B) Credit Risk Analytics (I) (20 points)"
   ]
  },
  {
   "cell_type": "markdown",
   "metadata": {},
   "source": [
    "### Credit risk analytics is key in personal loan decision making for banks. Using credit risk analytics, banks are able to analyze previous lending data, along with associated default rates, to create an eﬀective predictive model in loan decision making."
   ]
  },
  {
   "cell_type": "code",
   "execution_count": 3,
   "metadata": {},
   "outputs": [
    {
     "name": "stdout",
     "output_type": "stream",
     "text": [
      " data dimension:(16714, 10)\n"
     ]
    }
   ],
   "source": [
    "import time\n",
    "\n",
    "credit_risk_data = pd.read_csv(\"credit_risk_data_balanced.csv\")\n",
    "data = credit_risk_data[[\"Revolving Credit Percentage\",\"Capital Reserves\",\n",
    "                         \"Num Late 60\",\"Debt Ratio\",\"Monthly Income\",\n",
    "                         \"Num Credit Lines\",\"Num Late Past 90\",\n",
    "                         \"Num Real Estate\",\"Num Late 90\",\"Num Employees\"]]\n",
    "\n",
    "\n",
    "label = credit_risk_data[[\"Delinquency\"]]\n",
    "\n",
    "## Check dimension\n",
    "print(\" data dimension:\" + str((data.shape)))"
   ]
  },
  {
   "cell_type": "code",
   "execution_count": 4,
   "metadata": {},
   "outputs": [],
   "source": [
    "## Standard Data\n",
    "\n",
    "data = (data - data.mean()) / data.std()\n",
    "label=(label - label.mean()) / label.std()"
   ]
  },
  {
   "cell_type": "code",
   "execution_count": 115,
   "metadata": {},
   "outputs": [],
   "source": [
    "test_percent = 0.2 \n",
    "def kNN_Credit_Risk(training_data, training_response):\n",
    "    x_train, x_test, y_train, y_test = train_test_split(training_data, \n",
    "                                                    training_response, \n",
    "                                                    test_size=test_percent, \n",
    "                                                    random_state=42)\n",
    "    kNN.fit(x_train, y_train)\n",
    "    predicted_data = kNN.predict(x_test)\n",
    "\n",
    "    ## Compare Result\n",
    "    y_test[\"Estimate\"]=predicted_data\n",
    "    compare_result=(round(y_test['Estimate'])==round(y_test['Delinquency']))\n",
    "    y_test[\"Result\"]= compare_result\n",
    "    y_test[\"Result\"] = y_test[\"Result\"].map({True:\"good\", False: 'bad'})\n",
    "    print(y_test)\n"
   ]
  },
  {
   "cell_type": "code",
   "execution_count": 116,
   "metadata": {},
   "outputs": [
    {
     "name": "stdout",
     "output_type": "stream",
     "text": [
      "       Delinquency  Estimate Result\n",
      "3485      -0.99997 -0.677056   good\n",
      "5500      -0.99997  0.240511    bad\n",
      "16712      0.99997  0.258238    bad\n",
      "9487       0.99997 -0.242370    bad\n",
      "16663      0.99997  0.210546    bad\n",
      "12746      0.99997 -0.358489    bad\n",
      "7267      -0.99997  0.065493    bad\n",
      "2935      -0.99997  0.256321    bad\n",
      "15519      0.99997  0.999970   good\n",
      "2227      -0.99997 -0.403867    bad\n",
      "9097       0.99997  0.663255   good\n",
      "12359      0.99997  0.029508    bad\n",
      "6648      -0.99997 -0.307511    bad\n",
      "13824      0.99997 -0.587338    bad\n",
      "254       -0.99997  0.591814    bad\n",
      "10257      0.99997  0.999970   good\n",
      "11455      0.99997  0.219758    bad\n",
      "14630      0.99997  0.432224    bad\n",
      "2111      -0.99997 -0.080614    bad\n",
      "6472      -0.99997 -0.177486    bad\n",
      "10466      0.99997 -0.999970    bad\n",
      "1121      -0.99997  0.999970    bad\n",
      "2918      -0.99997 -0.999970   good\n",
      "47        -0.99997  0.604945    bad\n",
      "11206      0.99997 -0.999970    bad\n",
      "1705      -0.99997 -0.999970   good\n",
      "16062      0.99997  0.304914    bad\n",
      "1805      -0.99997 -0.999970   good\n",
      "11129      0.99997  0.207682    bad\n",
      "12309      0.99997  0.999970   good\n",
      "...            ...       ...    ...\n",
      "8223      -0.99997  0.306297    bad\n",
      "12238      0.99997  0.626670   good\n",
      "12756      0.99997 -0.165957    bad\n",
      "3283      -0.99997 -0.639444   good\n",
      "8065      -0.99997 -0.260571    bad\n",
      "10302      0.99997  0.644300   good\n",
      "8297      -0.99997 -0.607547   good\n",
      "2478      -0.99997 -0.122394    bad\n",
      "15694      0.99997 -0.584358    bad\n",
      "8897       0.99997  0.598000   good\n",
      "11971      0.99997  0.999970   good\n",
      "1851      -0.99997 -0.582663   good\n",
      "4643      -0.99997 -0.999970   good\n",
      "4467      -0.99997 -0.399737    bad\n",
      "9494       0.99997  0.358394    bad\n",
      "7735      -0.99997  0.624239    bad\n",
      "14483      0.99997  0.166252    bad\n",
      "3833      -0.99997 -0.233359    bad\n",
      "2452      -0.99997 -0.999970   good\n",
      "1237      -0.99997  0.395938    bad\n",
      "11773      0.99997 -0.214486    bad\n",
      "16310      0.99997 -0.343912    bad\n",
      "6194      -0.99997  0.120324    bad\n",
      "3999      -0.99997 -0.999970   good\n",
      "15594      0.99997  0.673545   good\n",
      "6510      -0.99997 -0.297152    bad\n",
      "3307      -0.99997 -0.999970   good\n",
      "12538      0.99997 -0.999970    bad\n",
      "9394       0.99997 -0.592011    bad\n",
      "11018      0.99997  0.601685   good\n",
      "\n",
      "[3343 rows x 3 columns]\n"
     ]
    },
    {
     "name": "stderr",
     "output_type": "stream",
     "text": [
      "/Users/wusuyi/anaconda3/lib/python3.7/site-packages/ipykernel_launcher.py:11: SettingWithCopyWarning: \n",
      "A value is trying to be set on a copy of a slice from a DataFrame.\n",
      "Try using .loc[row_indexer,col_indexer] = value instead\n",
      "\n",
      "See the caveats in the documentation: http://pandas.pydata.org/pandas-docs/stable/indexing.html#indexing-view-versus-copy\n",
      "  # This is added back by InteractiveShellApp.init_path()\n",
      "/Users/wusuyi/anaconda3/lib/python3.7/site-packages/ipykernel_launcher.py:13: SettingWithCopyWarning: \n",
      "A value is trying to be set on a copy of a slice from a DataFrame.\n",
      "Try using .loc[row_indexer,col_indexer] = value instead\n",
      "\n",
      "See the caveats in the documentation: http://pandas.pydata.org/pandas-docs/stable/indexing.html#indexing-view-versus-copy\n",
      "  del sys.path[0]\n",
      "/Users/wusuyi/anaconda3/lib/python3.7/site-packages/ipykernel_launcher.py:14: SettingWithCopyWarning: \n",
      "A value is trying to be set on a copy of a slice from a DataFrame.\n",
      "Try using .loc[row_indexer,col_indexer] = value instead\n",
      "\n",
      "See the caveats in the documentation: http://pandas.pydata.org/pandas-docs/stable/indexing.html#indexing-view-versus-copy\n",
      "  \n"
     ]
    }
   ],
   "source": [
    "kNN_Credit_Risk(data,label)"
   ]
  },
  {
   "cell_type": "markdown",
   "metadata": {},
   "source": [
    "###  SVM"
   ]
  },
  {
   "cell_type": "code",
   "execution_count": 9,
   "metadata": {},
   "outputs": [
    {
     "name": "stdout",
     "output_type": "stream",
     "text": [
      " data dimension:(16714, 10)\n"
     ]
    }
   ],
   "source": [
    "import time\n",
    "\n",
    "credit_risk_data = pd.read_csv(\"credit_risk_data_balanced.csv\")\n",
    "data = credit_risk_data[[\"Revolving Credit Percentage\",\"Capital Reserves\",\n",
    "                         \"Num Late 60\",\"Debt Ratio\",\"Monthly Income\",\n",
    "                         \"Num Credit Lines\",\"Num Late Past 90\",\n",
    "                         \"Num Real Estate\",\"Num Late 90\",\"Num Employees\"]]\n",
    "\n",
    "## Label Cannot be standardize since SVM is similar to logistic Regression\n",
    "label = credit_risk_data[[\"Delinquency\"]]\n",
    "\n",
    "## Check dimension\n",
    "print(\" data dimension:\" + str((data.shape)))\n",
    "data = (data - data.mean()) / data.std()"
   ]
  },
  {
   "cell_type": "code",
   "execution_count": 10,
   "metadata": {},
   "outputs": [],
   "source": [
    "from sklearn import svm\n",
    "test_percent = 0.2 \n",
    "def svm_credit_risk(training_data, training_response):\n",
    "\n",
    "    \n",
    "    x_train, x_test, y_train, y_test = train_test_split(training_data, \n",
    "                                                    training_response, \n",
    "                                                    test_size=test_percent, \n",
    "                                                    random_state=42)\n",
    "    \n",
    "    svm_learning_machine = svm.SVC(kernel= 'rbf', tol=0.0001, gamma=0.5, C=1)\n",
    "    \n",
    "    svm_learning_machine.fit(x_train, y_train)\n",
    "    \n",
    "    predicted_data = svm_learning_machine.predict(x_test)\n",
    "    \n",
    "        ## Compare Result\n",
    "    y_test[\"Estimate\"]=predicted_data\n",
    "    compare_result=(round(y_test['Estimate'])==round(y_test['Delinquency']))\n",
    "    y_test[\"Result\"]= compare_result\n",
    "    y_test[\"Result\"] = y_test[\"Result\"].map({True:\"good\", False: 'bad'})\n",
    "    print(y_test)"
   ]
  },
  {
   "cell_type": "code",
   "execution_count": 11,
   "metadata": {},
   "outputs": [
    {
     "name": "stdout",
     "output_type": "stream",
     "text": [
      "   Delinquency\n",
      "0           -1\n",
      "1           -1\n",
      "2           -1\n",
      "3           -1\n",
      "4           -1\n"
     ]
    },
    {
     "name": "stderr",
     "output_type": "stream",
     "text": [
      "/Users/wusuyi/anaconda3/lib/python3.7/site-packages/sklearn/utils/validation.py:578: DataConversionWarning: A column-vector y was passed when a 1d array was expected. Please change the shape of y to (n_samples, ), for example using ravel().\n",
      "  y = column_or_1d(y, warn=True)\n"
     ]
    },
    {
     "name": "stdout",
     "output_type": "stream",
     "text": [
      "       Delinquency  Estimate Result\n",
      "3485            -1        -1   good\n",
      "5500            -1         1    bad\n",
      "16712            1         1   good\n",
      "9487             1         1   good\n",
      "16663            1        -1    bad\n",
      "12746            1        -1    bad\n",
      "7267            -1        -1   good\n",
      "2935            -1        -1   good\n",
      "15519            1        -1    bad\n",
      "2227            -1        -1   good\n",
      "9097             1         1   good\n",
      "12359            1        -1    bad\n",
      "6648            -1        -1   good\n",
      "13824            1        -1    bad\n",
      "254             -1        -1   good\n",
      "10257            1         1   good\n",
      "11455            1         1   good\n",
      "14630            1        -1    bad\n",
      "2111            -1        -1   good\n",
      "6472            -1         1    bad\n",
      "10466            1        -1    bad\n",
      "1121            -1         1    bad\n",
      "2918            -1        -1   good\n",
      "47              -1         1    bad\n",
      "11206            1        -1    bad\n",
      "1705            -1        -1   good\n",
      "16062            1        -1    bad\n",
      "1805            -1        -1   good\n",
      "11129            1         1   good\n",
      "12309            1         1   good\n",
      "...            ...       ...    ...\n",
      "8223            -1         1    bad\n",
      "12238            1         1   good\n",
      "12756            1         1   good\n",
      "3283            -1        -1   good\n",
      "8065            -1        -1   good\n",
      "10302            1         1   good\n",
      "8297            -1        -1   good\n",
      "2478            -1        -1   good\n",
      "15694            1         1   good\n",
      "8897             1         1   good\n",
      "11971            1         1   good\n",
      "1851            -1        -1   good\n",
      "4643            -1        -1   good\n",
      "4467            -1        -1   good\n",
      "9494             1        -1    bad\n",
      "7735            -1         1    bad\n",
      "14483            1        -1    bad\n",
      "3833            -1        -1   good\n",
      "2452            -1        -1   good\n",
      "1237            -1        -1   good\n",
      "11773            1         1   good\n",
      "16310            1        -1    bad\n",
      "6194            -1        -1   good\n",
      "3999            -1        -1   good\n",
      "15594            1         1   good\n",
      "6510            -1         1    bad\n",
      "3307            -1        -1   good\n",
      "12538            1        -1    bad\n",
      "9394             1         1   good\n",
      "11018            1        -1    bad\n",
      "\n",
      "[3343 rows x 3 columns]\n"
     ]
    },
    {
     "name": "stderr",
     "output_type": "stream",
     "text": [
      "/Users/wusuyi/anaconda3/lib/python3.7/site-packages/ipykernel_launcher.py:18: SettingWithCopyWarning: \n",
      "A value is trying to be set on a copy of a slice from a DataFrame.\n",
      "Try using .loc[row_indexer,col_indexer] = value instead\n",
      "\n",
      "See the caveats in the documentation: http://pandas.pydata.org/pandas-docs/stable/indexing.html#indexing-view-versus-copy\n",
      "/Users/wusuyi/anaconda3/lib/python3.7/site-packages/ipykernel_launcher.py:20: SettingWithCopyWarning: \n",
      "A value is trying to be set on a copy of a slice from a DataFrame.\n",
      "Try using .loc[row_indexer,col_indexer] = value instead\n",
      "\n",
      "See the caveats in the documentation: http://pandas.pydata.org/pandas-docs/stable/indexing.html#indexing-view-versus-copy\n",
      "/Users/wusuyi/anaconda3/lib/python3.7/site-packages/ipykernel_launcher.py:21: SettingWithCopyWarning: \n",
      "A value is trying to be set on a copy of a slice from a DataFrame.\n",
      "Try using .loc[row_indexer,col_indexer] = value instead\n",
      "\n",
      "See the caveats in the documentation: http://pandas.pydata.org/pandas-docs/stable/indexing.html#indexing-view-versus-copy\n"
     ]
    }
   ],
   "source": [
    "\n",
    "## Print Out Result\n",
    "svm_credit_risk(data,label)\n",
    "\n"
   ]
  }
 ],
 "metadata": {
  "kernelspec": {
   "display_name": "Python 3",
   "language": "python",
   "name": "python3"
  },
  "language_info": {
   "codemirror_mode": {
    "name": "ipython",
    "version": 3
   },
   "file_extension": ".py",
   "mimetype": "text/x-python",
   "name": "python",
   "nbconvert_exporter": "python",
   "pygments_lexer": "ipython3",
   "version": "3.7.2"
  }
 },
 "nbformat": 4,
 "nbformat_minor": 2
}
