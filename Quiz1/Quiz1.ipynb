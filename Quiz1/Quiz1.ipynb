{
 "cells": [
  {
   "cell_type": "markdown",
   "metadata": {},
   "source": [
    "**This Quiz 1 Code Provided by Professor Han of This course from prior student Wei Chen and Suyi Wu tranfer it into Jupyter Notebook**"
   ]
  },
  {
   "cell_type": "markdown",
   "metadata": {},
   "source": [
    "Write a python program to\n",
    "\n",
    "1. Generate a 10x10 random matrix\n",
    "\n",
    "2. Compute its eigenvalues\n",
    "\n",
    "3. Create its corresponding dataframe and label each column as column 1, 2, ...10\n",
    "\n",
    "4. Write the dataframe into a csv ﬁle\n",
    "\n",
    "5. Compute its singular values by using numpy.linalg.svd"
   ]
  },
  {
   "cell_type": "code",
   "execution_count": 7,
   "metadata": {},
   "outputs": [
    {
     "name": "stdout",
     "output_type": "stream",
     "text": [
      "\n",
      " This is a random matrix A 10 x 10: \n",
      "\n",
      "[[ 7.71152049e-03 -7.45634136e-01 -1.55086887e-01 -1.99355839e-01\n",
      "   1.11017956e+00  2.69538592e+00  2.12083016e-01  2.00422446e+00\n",
      "  -3.01589183e-01 -3.99882191e-01]\n",
      " [-8.03278066e-01 -9.82962438e-01  3.43554959e-01  1.09984800e+00\n",
      "  -7.59880370e-01  1.35638216e+00  6.19506796e-02 -1.28572794e+00\n",
      "  -1.01681597e+00 -5.66849112e-01]\n",
      " [ 1.34017713e+00 -1.29839054e+00 -7.70430337e-01  8.62369538e-02\n",
      "  -9.69130346e-01  5.35875431e-01  8.91200897e-01  6.17378785e-01\n",
      "   9.36303235e-01 -1.12848556e+00]\n",
      " [ 1.34538771e+00 -4.43165072e-01  7.53194254e-01 -1.07599222e+00\n",
      "  -9.33989950e-02  5.29530101e-01 -1.14678805e+00  1.34880319e+00\n",
      "   9.31515666e-01 -8.23529376e-01]\n",
      " [ 7.10700176e-01 -1.35933046e+00 -4.27580122e-01 -1.07047123e+00\n",
      "  -1.36170889e+00  1.70320542e+00  6.68057568e-01  1.54366639e+00\n",
      "   6.23382788e-01 -1.46241387e+00]\n",
      " [ 9.64047755e-01 -6.11641576e-01 -4.38153693e-01  6.59446138e-01\n",
      "  -5.23980605e-01 -2.05348778e+00  4.14883532e-01  4.93633383e-01\n",
      "  -2.24544472e-01  1.97617445e-01]\n",
      " [ 4.22407372e-01  2.10119867e-01 -1.68106074e+00 -9.73896298e-01\n",
      "  -6.08358294e-01 -4.95028377e-01 -4.31788848e-01 -5.06144734e-01\n",
      "  -1.48161583e-01 -1.44554916e+00]\n",
      " [ 9.35761039e-01  4.39946037e-01 -1.04400939e+00  2.82863097e+00\n",
      "   1.99504346e+00 -2.56678027e+00  3.94216012e-01  5.60163474e-02\n",
      "  -2.23441991e+00 -1.04417761e-01]\n",
      " [-1.02699083e+00  1.37119577e+00  5.50364743e-01  4.27829819e-01\n",
      "  -2.79306912e-03  1.17038522e+00 -2.02673444e+00  4.65375843e-03\n",
      "  -5.39300821e-01  9.83316112e-01]\n",
      " [-1.01121896e+00  1.15074361e+00 -2.32386238e-02 -4.99633149e-01\n",
      "  -9.42045582e-02 -9.40502275e-01 -1.58834201e+00 -8.62646386e-02\n",
      "   1.62991432e+00 -2.70209674e-01]]\n"
     ]
    }
   ],
   "source": [
    "import numpy as np\n",
    "\n",
    "A =np.random.standard_normal ((10,10))\n",
    "\n",
    "print(\"\\n This is a random matrix A 10 x 10: \\n\")\n",
    "print(A)"
   ]
  },
  {
   "cell_type": "code",
   "execution_count": 14,
   "metadata": {},
   "outputs": [
    {
     "name": "stdout",
     "output_type": "stream",
     "text": [
      " \n",
      " This is the eigenvalue of A: \n",
      "\n",
      "(array([ 2.78467289+0.26780553j,  2.78467289-0.26780553j,\n",
      "       -3.18132919+0.j        , -2.52087773+1.56652609j,\n",
      "       -2.52087773-1.56652609j, -0.80510789+1.35169874j,\n",
      "       -0.80510789-1.35169874j, -0.81918299+0.96504268j,\n",
      "       -0.81918299-0.96504268j, -1.5198325 +0.j        ]), array([[ 0.46701283+0.06105126j,  0.46701283-0.06105126j,\n",
      "         0.19752008+0.j        ,  0.48440529-0.03624844j,\n",
      "         0.48440529+0.03624844j, -0.19255743+0.20287464j,\n",
      "        -0.19255743-0.20287464j, -0.09393766+0.22849335j,\n",
      "        -0.09393766-0.22849335j, -0.12584723+0.j        ],\n",
      "       [-0.08196536-0.00423724j, -0.08196536+0.00423724j,\n",
      "        -0.10713341+0.j        ,  0.21283841+0.06018024j,\n",
      "         0.21283841-0.06018024j,  0.57801715+0.j        ,\n",
      "         0.57801715-0.j        ,  0.61249661+0.j        ,\n",
      "         0.61249661-0.j        ,  0.3843394 +0.j        ],\n",
      "       [ 0.25991437+0.02091009j,  0.25991437-0.02091009j,\n",
      "         0.09328641+0.j        , -0.002364  +0.14828585j,\n",
      "        -0.002364  -0.14828585j,  0.03748916+0.04302196j,\n",
      "         0.03748916-0.04302196j,  0.16812324-0.11410607j,\n",
      "         0.16812324+0.11410607j,  0.31320156+0.j        ],\n",
      "       [ 0.54647882+0.j        ,  0.54647882-0.j        ,\n",
      "         0.36278621+0.j        , -0.0273447 -0.19021977j,\n",
      "        -0.0273447 +0.19021977j,  0.13897202+0.12600421j,\n",
      "         0.13897202-0.12600421j,  0.12672912+0.15438259j,\n",
      "         0.12672912-0.15438259j, -0.28901654+0.j        ],\n",
      "       [ 0.1666812 +0.0541782j ,  0.1666812 -0.0541782j ,\n",
      "         0.55296843+0.j        ,  0.40166018+0.16219223j,\n",
      "         0.40166018-0.16219223j, -0.21304534+0.01536789j,\n",
      "        -0.21304534-0.01536789j, -0.16311633+0.01973122j,\n",
      "        -0.16311633-0.01973122j, -0.44534216+0.j        ],\n",
      "       [ 0.14235427+0.00831738j,  0.14235427-0.00831738j,\n",
      "        -0.0098263 +0.j        , -0.17150274+0.24047113j,\n",
      "        -0.17150274-0.24047113j, -0.06529479+0.05199415j,\n",
      "        -0.06529479-0.05199415j, -0.03423169+0.1151295j ,\n",
      "        -0.03423169-0.1151295j , -0.09451196+0.j        ],\n",
      "       [-0.33021032+0.04218634j, -0.33021032-0.04218634j,\n",
      "         0.3080556 +0.j        , -0.21610746-0.10001058j,\n",
      "        -0.21610746+0.10001058j,  0.26708803-0.22668283j,\n",
      "         0.26708803+0.22668283j,  0.40137711-0.17301364j,\n",
      "         0.40137711+0.17301364j,  0.11543156+0.j        ],\n",
      "       [ 0.43892404+0.07320613j,  0.43892404-0.07320613j,\n",
      "        -0.56033531+0.j        , -0.48583552+0.j        ,\n",
      "        -0.48583552-0.j        ,  0.30811107-0.33021917j,\n",
      "         0.30811107+0.33021917j,  0.24264327-0.31444561j,\n",
      "         0.24264327+0.31444561j,  0.54035417+0.j        ],\n",
      "       [ 0.15389255-0.07689253j,  0.15389255+0.07689253j,\n",
      "         0.21454252+0.j        ,  0.1771389 -0.11743558j,\n",
      "         0.1771389 +0.11743558j,  0.05433147-0.16238404j,\n",
      "         0.05433147+0.16238404j,  0.09816729-0.02146867j,\n",
      "         0.09816729+0.02146867j, -0.37711823+0.j        ],\n",
      "       [-0.09167671-0.08318572j, -0.09167671+0.08318572j,\n",
      "         0.22004321+0.j        , -0.18539021-0.09504647j,\n",
      "        -0.18539021+0.09504647j, -0.25389416-0.27593623j,\n",
      "        -0.25389416+0.27593623j, -0.24190216-0.15429903j,\n",
      "        -0.24190216+0.15429903j,  0.0057038 +0.j        ]]))\n"
     ]
    }
   ],
   "source": [
    "from numpy.linalg import *\n",
    "print(\" \\n This is the eigenvalue of A: \\n\")\n",
    "t=eig(A)\n",
    "print(t)"
   ]
  },
  {
   "cell_type": "code",
   "execution_count": 15,
   "metadata": {},
   "outputs": [
    {
     "name": "stdout",
     "output_type": "stream",
     "text": [
      "   column 1  column 2  column 3  column 4  column 5  column 6  column 7  \\\n",
      "0  0.007712 -0.745634 -0.155087 -0.199356  1.110180  2.695386  0.212083   \n",
      "1 -0.803278 -0.982962  0.343555  1.099848 -0.759880  1.356382  0.061951   \n",
      "2  1.340177 -1.298391 -0.770430  0.086237 -0.969130  0.535875  0.891201   \n",
      "3  1.345388 -0.443165  0.753194 -1.075992 -0.093399  0.529530 -1.146788   \n",
      "4  0.710700 -1.359330 -0.427580 -1.070471 -1.361709  1.703205  0.668058   \n",
      "5  0.964048 -0.611642 -0.438154  0.659446 -0.523981 -2.053488  0.414884   \n",
      "6  0.422407  0.210120 -1.681061 -0.973896 -0.608358 -0.495028 -0.431789   \n",
      "7  0.935761  0.439946 -1.044009  2.828631  1.995043 -2.566780  0.394216   \n",
      "8 -1.026991  1.371196  0.550365  0.427830 -0.002793  1.170385 -2.026734   \n",
      "9 -1.011219  1.150744 -0.023239 -0.499633 -0.094205 -0.940502 -1.588342   \n",
      "\n",
      "   column 8  column 9  column 10  \n",
      "0  2.004224 -0.301589  -0.399882  \n",
      "1 -1.285728 -1.016816  -0.566849  \n",
      "2  0.617379  0.936303  -1.128486  \n",
      "3  1.348803  0.931516  -0.823529  \n",
      "4  1.543666  0.623383  -1.462414  \n",
      "5  0.493633 -0.224544   0.197617  \n",
      "6 -0.506145 -0.148162  -1.445549  \n",
      "7  0.056016 -2.234420  -0.104418  \n",
      "8  0.004654 -0.539301   0.983316  \n",
      "9 -0.086265  1.629914  -0.270210  \n"
     ]
    }
   ],
   "source": [
    "import pandas as pd\n",
    "names = [ \"column 1\", \"column 2\", \"column 3\", \"column 4\",\"column 5\", \"column 6\", \"column 7\", \"column 8\", \"column 9\" ,\"column 10\"]\n",
    "df=pd.DataFrame(A,columns=names )\n",
    "print(df)"
   ]
  },
  {
   "cell_type": "code",
   "execution_count": 18,
   "metadata": {},
   "outputs": [],
   "source": [
    "df.to_csv('df.csv', index=True ,header= True ,sep = ',')"
   ]
  },
  {
   "cell_type": "code",
   "execution_count": 24,
   "metadata": {},
   "outputs": [
    {
     "data": {
      "text/plain": [
       "((10, 10), (10, 10), (10,))"
      ]
     },
     "execution_count": 24,
     "metadata": {},
     "output_type": "execute_result"
    }
   ],
   "source": [
    "U,s, V = np.linalg.svd(df,full_matrices=True)\n",
    "U.shape,V.shape,s.shape\n"
   ]
  },
  {
   "cell_type": "code",
   "execution_count": 25,
   "metadata": {},
   "outputs": [
    {
     "name": "stdout",
     "output_type": "stream",
     "text": [
      "\n",
      " This is the singular value of df \n",
      "\n",
      "(10,)\n"
     ]
    }
   ],
   "source": [
    "print (\"\\n This is the singular value of df \\n\")\n",
    "print (s.shape)"
   ]
  },
  {
   "cell_type": "markdown",
   "metadata": {},
   "source": [
    "2. Write a python program to calculate the following values by using three ways\n",
    "\n",
    "$$\\sum_{n=1}^{\\infty}(-1)^{n+1}/n*(6/7)^n$$\n",
    "\n",
    "$$\\lim_{n}^{\\infty}(1-1/n)^{2n}$$\n",
    "\n",
    "1. list\n",
    "\n",
    "2. ndarray\n",
    "\n",
    "3. symbolic module: sympy"
   ]
  },
  {
   "cell_type": "markdown",
   "metadata": {},
   "source": [
    "\n",
    "$$\\sum_{n=1}^{\\infty}(-1)^{n+1}/n*(6/7)^n$$"
   ]
  },
  {
   "cell_type": "markdown",
   "metadata": {},
   "source": [
    "By List"
   ]
  },
  {
   "cell_type": "code",
   "execution_count": 31,
   "metadata": {},
   "outputs": [
    {
     "name": "stdout",
     "output_type": "stream",
     "text": [
      "\n",
      " sum:0.6190392084062240\n",
      "\n"
     ]
    }
   ],
   "source": [
    "import math\n",
    "lst = []\n",
    "total = 0.0\n",
    "\n",
    "for n in range (1 ,10000) : \n",
    "    lst.append(math.pow(-1.0,n+1)/n*math.pow((6.0/7.0),n))\n",
    "\n",
    "\n",
    "print(\"\\n sum:{:12.16f}\".format(sum(lst))+\"\\n\")"
   ]
  },
  {
   "cell_type": "markdown",
   "metadata": {},
   "source": [
    "By Numpy"
   ]
  },
  {
   "cell_type": "code",
   "execution_count": 33,
   "metadata": {},
   "outputs": [
    {
     "name": "stdout",
     "output_type": "stream",
     "text": [
      "\n",
      " sum:0.6190392084062236\n",
      "\n"
     ]
    }
   ],
   "source": [
    "import numpy as np\n",
    "n = np.arange(1,10000)\n",
    "s = np.sum(np.power(-1.0,n+1)/n * np.power((6.0/7.0),n))\n",
    "print (\"\\n sum:{:12.16f}\".format(s)+\"\\n\")"
   ]
  },
  {
   "cell_type": "markdown",
   "metadata": {},
   "source": [
    "By Sympy"
   ]
  },
  {
   "cell_type": "code",
   "execution_count": 37,
   "metadata": {},
   "outputs": [
    {
     "name": "stdout",
     "output_type": "stream",
     "text": [
      "Sum:0.6190392084062235\n"
     ]
    }
   ],
   "source": [
    "import sympy\n",
    "n = sympy.symbols('n',integer = True) # tell sympy n is always an integer value\n",
    "\n",
    "s = float(sympy.summation(((((-1.0)**(n+1))/n)*((6.0/7.0)**n)),(n,1,sympy.oo)))\n",
    "6\n",
    "\n",
    "print (\"Sum:\" + str(s))"
   ]
  },
  {
   "cell_type": "markdown",
   "metadata": {},
   "source": [
    "$$\\lim_{n}^{\\infty}(1-1/n)^{2n}$$"
   ]
  },
  {
   "cell_type": "markdown",
   "metadata": {},
   "source": [
    "By List"
   ]
  },
  {
   "cell_type": "code",
   "execution_count": 42,
   "metadata": {},
   "outputs": [
    {
     "name": "stdout",
     "output_type": "stream",
     "text": [
      "\n",
      " The limit is : 0.1353348904518999 \n",
      "\n"
     ]
    }
   ],
   "source": [
    "lst=[]\n",
    "lst.append((1.0-1.0/1)**(2*1))\n",
    "lst.append((1.0-1.0/2)**(2*2))\n",
    "n = 3\n",
    "num = 1.0\n",
    "while lst[n-2]!=lst[n-3]:\n",
    "    num=(1.0-1.0/n)**(2*n)\n",
    "    lst.append(num)\n",
    "    n = n+1\n",
    "\n",
    "\n",
    "\n",
    "print(\"\\n The limit is :{: 12.16f} \". format(lst[n-2]) + \"\\n\")\n",
    "\n",
    "\n"
   ]
  },
  {
   "cell_type": "markdown",
   "metadata": {},
   "source": [
    "By Numpy"
   ]
  },
  {
   "cell_type": "code",
   "execution_count": 46,
   "metadata": {},
   "outputs": [
    {
     "name": "stdout",
     "output_type": "stream",
     "text": [
      "\n",
      " The limit is : 0.1353217467754524 \n",
      "\n"
     ]
    }
   ],
   "source": [
    "a = np.zeros (10000)\n",
    "for n in range (2,10000) :\n",
    "    a[n-1]=(1.0-1.0/n)**(2*n)\n",
    "    if a[n-1]-a[n]<0.0001:\n",
    "        break\n",
    "        \n",
    "print(\"\\n The limit is :{: 12.16f} \". format(lst[n-2]) + \"\\n\")"
   ]
  },
  {
   "cell_type": "markdown",
   "metadata": {},
   "source": [
    "By Sympy"
   ]
  },
  {
   "cell_type": "code",
   "execution_count": 64,
   "metadata": {},
   "outputs": [
    {
     "name": "stdout",
     "output_type": "stream",
     "text": [
      "\n",
      " The limit is : 0.1353352832366130 \n",
      "\n"
     ]
    }
   ],
   "source": [
    "n = sympy.symbols ( 'n',integer = True )\n",
    "\n",
    "lim = sympy.limit((1 -1.0/n) **(2*n), n, \"oo\",dir='+')\n",
    "\n",
    "print(\"\\n The limit is :{: 12.16f} \". format(lim) + \"\\n\")"
   ]
  }
 ],
 "metadata": {
  "kernelspec": {
   "display_name": "Python 3",
   "language": "python",
   "name": "python3"
  },
  "language_info": {
   "codemirror_mode": {
    "name": "ipython",
    "version": 3
   },
   "file_extension": ".py",
   "mimetype": "text/x-python",
   "name": "python",
   "nbconvert_exporter": "python",
   "pygments_lexer": "ipython3",
   "version": "3.7.2"
  }
 },
 "nbformat": 4,
 "nbformat_minor": 2
}
