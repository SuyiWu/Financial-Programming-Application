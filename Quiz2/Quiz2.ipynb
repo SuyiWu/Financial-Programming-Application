{
 "cells": [
  {
   "cell_type": "markdown",
   "metadata": {},
   "source": [
    "**1. Write a function with the following signature such that it can handle both call and put options.**\n",
    "\n",
    "mc_pricing(S, K, T, r, sigma, option_type, no_trial)\n",
    "\n",
    "• You are required to use the following call and examples to test your function\n",
    "\n",
    "– An European call with continuous dividend yield: S = 50,K = 80,r = 0.1,T = 5/12, σ = 0.35\n",
    "\n",
    "– An European put option on stock indexes with a cost-of-carry: S = 80,K = 75, r = 0.1,T = 5/12, σ = 0.20\n",
    "\n",
    "– The no_trial: should be at least 107\n",
    "\n",
    "– Plot your simulation results for the ﬁrst 5 trials (You can ’relax’ the huge trial number a little bit for the sake of visualization)\n",
    "\n",
    "**Extra credits Polish Monte Carlo simulations (10 points)**"
   ]
  },
  {
   "cell_type": "code",
   "execution_count": 1,
   "metadata": {},
   "outputs": [
    {
     "name": "stdout",
     "output_type": "stream",
     "text": [
      "Hart’s algorithm to compute cumulative standard normal distribution:\n",
      "\n",
      "\n",
      "The stats.norm.cdf( ) for this inputs -0.02 is: 0.492021686283098\n",
      "\n",
      "The Standard Normal CDF of this input -0.02 is: 0.492021686283098\n",
      "\n",
      "The Standard Normal CDF of this input 0.02 is: 0.507978313716902\n",
      "\n",
      "The stats.norm.cdf( ) for this inputs 0.02 is: 0.5079783137169019\n",
      "\n",
      "The Standard Normal CDF of this input 0.02 is: 0.507978313716902\n",
      "\n",
      "The stats.norm.cdf( ) for this inputs 0.8 is: 0.7881446014166034\n",
      "\n",
      "The Standard Normal CDF of this input 0.8 is: 0.7881446014166034\n",
      "\n",
      "The stats.norm.cdf( ) for this inputs 0.182 is: 0.5722086370495298\n",
      "\n",
      "The Standard Normal CDF of this input 0.182 is: 0.5722086370495298\n"
     ]
    }
   ],
   "source": [
    "from math import sqrt, exp\n",
    "from scipy import stats\n",
    "\n",
    "print(\"Hart’s algorithm to compute cumulative standard normal distribution:\\n\")\n",
    "\n",
    "def CaculateStandardNormalCDF(x):\n",
    "    print(\"\\nThe stats.norm.cdf( ) for this inputs\", x, \"is:\", stats.norm.cdf(x, 0.0, 1.0))\n",
    "\n",
    "    a1 = 0.0352624965998911\n",
    "    a2 = 0.700383064443688\n",
    "    a3 = 6.37396220353165\n",
    "    a4 = 33.912866078383\n",
    "    a5 = 112.079291497871\n",
    "    a6 = 221.213596169931\n",
    "    a7 = 220.206867912376\n",
    "    b1 = 0.0883883476483184\n",
    "    b2 = 1.75566716318264\n",
    "    b3 = 16.064177579207\n",
    "    b4 = 86.7807322029461\n",
    "    b5 = 296.564248779674\n",
    "    b6 = 637.333633378831\n",
    "    b7 = 793.826512519948\n",
    "    b8 = 440.413735824752\n",
    "\n",
    "    t1 = 7.07106781186547\n",
    "    t2 = 37\n",
    "    t3 = 2.506628274631\n",
    "\n",
    "    N=0\n",
    "\n",
    "\n",
    "    if(x<0):\n",
    "        x=-x\n",
    "        A = ((((((a1*x + a2)*x + a3)*x + a4)*x + a5)*x + a6)*x + a7)\n",
    "        B = (((((((b1*x + b2)*x + b3)*x + b4)*x + b5)*x + b6)*x + b7)*x + b8)\n",
    "        C = x + 1 / (x + 2 / (x + 3 / (x + 4 / (x + 0.65))))\n",
    "\n",
    "        if(x<t1):\n",
    "           N=exp((x**2)*((-1)/2))*(A/B)\n",
    "\n",
    "        if(x<=t2 and x>=t1):\n",
    "           N=exp((x**2)*((-1)/2))*(1/(t3*C))\n",
    "\n",
    "        elif(x>t2):\n",
    "           N=0\n",
    "        print(\"\\nThe Standard Normal CDF of this input\", -x, \"is:\", N)\n",
    "\n",
    "    if(x>0):\n",
    "        A = ((((((a1 * x + a2) * x + a3) * x + a4) * x + a5) * x + a6) * x + a7)\n",
    "        B = (((((((b1 * x + b2) * x + b3) * x + b4) * x + b5) * x + b6) * x + b7) * x + b8)\n",
    "        C = x + 1 / (x + 2 / (x + 3 / (x + 4 / (x + 0.65))))\n",
    "\n",
    "        if (x < t1):\n",
    "            N = 1-(exp((x ** 2) * ((-1) / 2)) * (A / B))\n",
    "\n",
    "        if (x <= t2 and x >= t1):\n",
    "            N = 1-(exp((x ** 2) * ((-1) / 2)) * (1 / (t3 * C)))\n",
    "\n",
    "        elif (x > t2):\n",
    "            N = 1\n",
    "\n",
    "        print(\"\\nThe Standard Normal CDF of this input\",x, \"is:\", N)\n",
    "\n",
    "\n",
    "\n",
    "CaculateStandardNormalCDF(-0.02)\n",
    "CaculateStandardNormalCDF(0.02)\n",
    "CaculateStandardNormalCDF(0.8)\n",
    "CaculateStandardNormalCDF(0.182)\n",
    "\n"
   ]
  },
  {
   "cell_type": "code",
   "execution_count": 2,
   "metadata": {},
   "outputs": [
    {
     "name": "stdout",
     "output_type": "stream",
     "text": [
      "The European call price using BSM Model is 0.1208018210077284\n",
      "The European put price using BSM Model is 0.44834326461199225\n"
     ]
    }
   ],
   "source": [
    "from scipy import stats\n",
    "from math import exp,log,sqrt\n",
    "\n",
    "def bsm_prcing(S,K,T,r,sigma,q,option_type):\n",
    "\n",
    "    if (option_type == 'put'):\n",
    "\n",
    "        b=r-q\n",
    "\n",
    "        d1 = (log(S / K) + (b + 0.5 * sigma ** 2) * T) / (sigma * sqrt(T))\n",
    "        d2 = d1 - sigma * sqrt(T)\n",
    "\n",
    "        N_n_d2 = stats.norm.cdf(-d2, 0.0, 1.0)\n",
    "        N_n_d1 = stats.norm.cdf(-d1, 0.0, 1.0)\n",
    "\n",
    "        put_price = K * exp(-r * T) * N_n_d2 - S *exp(-(b-r)*T)* N_n_d1\n",
    "\n",
    "        print (\"The European\",option_type,\"price using BSM Model is\", put_price)\n",
    "\n",
    "\n",
    "    if(option_type=='call'):\n",
    "\n",
    "        d1= (log(S / K) + (r-q+ 0.5 * sigma ** 2) * T) / (sigma * sqrt(T))\n",
    "        d2=d1-sigma*sqrt(T)\n",
    "\n",
    "        N_n_d2 = stats.norm.cdf(d2, 0.0, 1.0)\n",
    "        N_n_d1 = stats.norm.cdf(d1, 0.0, 1.0)\n",
    "\n",
    "        call_price=S * exp( -q * T) * N_n_d1- K * exp(-r * T) * N_n_d2\n",
    "\n",
    "        print (\"The European\", option_type, \"price using BSM Model is\", call_price)\n",
    "\n",
    "bsm_prcing(50.0,80.0,0.4167,0.1,0.35,0.05,'call')\n",
    "bsm_prcing(80.0,75.0,0.4167,0.1,0.20,0.07,'put')"
   ]
  },
  {
   "cell_type": "code",
   "execution_count": 4,
   "metadata": {},
   "outputs": [
    {
     "data": {
      "image/png": "[encoded data removed]",
      "text/plain": [
       "<Figure size 432x288 with 1 Axes>"
      ]
     },
     "metadata": {
      "needs_background": "light"
     },
     "output_type": "display_data"
    }
   ],
   "source": [
    "from math import exp, sqrt\n",
    "from numpy import *\n",
    "from pylab import plot, show\n",
    "import numpy as np\n",
    "import matplotlib.pyplot as plt\n",
    "\n",
    "\n",
    "def mc_pricing(S, K, T, R, sigma, option_type, no_trial):\n",
    "    price = np.zeros(no_trial)\n",
    "\n",
    "    random.seed(1000)\n",
    "    \n",
    "    for x in range(1,no_trial):\n",
    "        \n",
    "        z = random.standard_normal(no_trial)\n",
    "        \n",
    "        if (option_type == 'call'):\n",
    "           \n",
    "            ST = S * exp((R - 0.5 * sigma ** 2) * T + sigma * sqrt(T) * z)\n",
    "\n",
    "            payOff = maximum(ST - K, 0)\n",
    "\n",
    "            price[x] = np.exp(-R * T) * np.sum(payOff) / no_trial\n",
    "            \n",
    "            \n",
    "            #print (\"The European\", option_type, \"price is\", price)\n",
    "\n",
    "\n",
    "\n",
    "        if (option_type == 'put'):\n",
    "            ST = S * exp((R - 0.5 * sigma ** 2) * T + sigma * sqrt(T) * z)\n",
    "\n",
    "            payOff = maximum(K - ST, 0)\n",
    "\n",
    "            price[x]= np.exp(-R * T) * np.sum(payOff) / no_trial\n",
    "            \n",
    "    return price\n",
    "\n",
    "\n",
    "\n",
    "for run in range(50):\n",
    "    plt.plot(mc_pricing(50.0,80.0,0.4167,0.1,0.35,'call',10**3))    \n",
    "    \n",
    "    \n",
    "plt.xlabel(\"Trials\")\n",
    "plt.ylabel(\"Price\")  \n",
    "plt.title(\"Monte Carlo Analysis\")\n",
    "plt.show()\n"
   ]
  },
  {
   "cell_type": "markdown",
   "metadata": {},
   "source": [
    "**2. Python multithreading programming for Monte Carlo simulations**\n",
    "\n",
    "• Multithreading programming is an important skill in data analytics.\n",
    "\n",
    "• Go through the following sample multithreading python demo codes to understand multithreading programming basics.\n",
    "\n",
    "• Convert your Monte Carlo simulation results in to a multithreading version"
   ]
  },
  {
   "cell_type": "code",
   "execution_count": null,
   "metadata": {},
   "outputs": [],
   "source": [
    "import threading\n",
    "import time\n",
    "import warnings\n",
    "\n",
    "warnings.filterwarnings('ignore')\n",
    "\n",
    "\n",
    "start_time = time.clock()\n",
    "no_thread = 10000\n",
    "for i in range(no_thread):\n",
    "        t = threading.Thread(target = mc_pricing(50.0,80.0,0.4167,0.1,0.35,'call',10**3), args = (i,))\n",
    "        t.start()\n",
    "        print(\"\\n-->  \"+t.getName() + \"\\n\")\n",
    "        #time.sleep(1)\n",
    "\n",
    "print(\"\\n The main stread stops after {}\".format(time.clock()-start_time) + \" seconds\")\n"
   ]
  },
  {
   "cell_type": "markdown",
   "metadata": {},
   "source": [
    "**Reference**\n",
    "\n",
    "\n",
    "https://blog.csdn.net/u014281392/article/details/76202493 蒙特卡洛估值计算(欧式期权）"
   ]
  }
 ],
 "metadata": {
  "kernelspec": {
   "display_name": "Python 3",
   "language": "python",
   "name": "python3"
  },
  "language_info": {
   "codemirror_mode": {
    "name": "ipython",
    "version": 3
   },
   "file_extension": ".py",
   "mimetype": "text/x-python",
   "name": "python",
   "nbconvert_exporter": "python",
   "pygments_lexer": "ipython3",
   "version": "3.7.2"
  }
 },
 "nbformat": 4,
 "nbformat_minor": 2
}
